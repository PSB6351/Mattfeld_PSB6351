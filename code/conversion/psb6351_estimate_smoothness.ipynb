{
 "cells": [
  {
   "cell_type": "code",
   "execution_count": 3,
   "metadata": {},
   "outputs": [
    {
     "ename": "SyntaxError",
     "evalue": "invalid decimal literal (2617082796.py, line 14)",
     "output_type": "error",
     "traceback": [
      "\u001b[0;36m  Cell \u001b[0;32mIn[3], line 14\u001b[0;36m\u001b[0m\n\u001b[0;31m    ++ 3dAutomask: AFNI version=AFNI_24.3.02 (Oct 15 2024) [64-bit]\u001b[0m\n\u001b[0m       ^\u001b[0m\n\u001b[0;31mSyntaxError\u001b[0m\u001b[0;31m:\u001b[0m invalid decimal literal\n"
     ]
    }
   ],
   "source": [
    "#!/bin/bash\n",
    "\n",
    "#SBATCH -J psb6351_3dfwhmx\n",
    "#SBATCH -o out_3dfwhmx\n",
    "#SBATCH -e err_3dfwhmx\n",
    "#SBATCH --qos pq_madlab\n",
    "#SBATCH --account iacc_madlab\n",
    "#SBATCH --partition 16C_128G\n",
    "\n",
    "# Need to run the below line once:\n",
    "3dAutomask -prefix ~/Desktop/CogNeuro-Imaging-Methods/Mattfeld_PSB6351/derivatives/preproc/sub-001/study_ref/sub-001_mask.nii.gz ~/Desktop/CogNeuro-Imaging-Methods/Mattfeld_PSB6351/derivatives/preproc/sub-001/study_ref/sub-001_ses-01_task-loc1_run-01_bold_roi.nii.gz\n",
    "\n",
    "# Terminal output\n",
    "++ 3dAutomask: AFNI version=AFNI_24.3.02 (Oct 15 2024) [64-bit]\n",
    "++ Authored by: Emperor Zhark\n",
    "++ Loading dataset /Users/alisha/Desktop/CogNeuro-Imaging-Methods/Mattfeld_PSB6351/derivatives/preproc/sub-001/study_ref/sub-001_ses-01_task-loc1_run-01_bold_roi.nii.gz\n",
    "++ Forming automask\n",
    " + Fixed clip level = 126.579201\n",
    " + Used gradual clip level = 93.483002 .. 153.049103\n",
    " + Number voxels above clip level = 235296\n",
    " + Clustering voxels ...\n",
    " + Largest cluster has 225216 voxels\n",
    " + Clustering voxels ...\n",
    " + Largest cluster has 210587 voxels\n",
    " + Filled  3525 voxels in small holes; now have 214112 voxels\n",
    " + Filled  5558 voxels in large holes; now have 219670 voxels\n",
    " + Clustering voxels ...\n",
    " + Largest cluster has 219659 voxels\n",
    " + Clustering non-brain voxels ...\n",
    " + Clustering voxels ...\n",
    " + Largest cluster has 440194 voxels\n",
    " + Mask now has 219806 voxels\n",
    "++ 219806 voxels in the mask [out of 660000: 33.30%]\n",
    "++ first  11 x-planes are zero [from R]\n",
    "++ last   15 x-planes are zero [from L]\n",
    "++ first   0 y-planes are zero [from P]\n",
    "++ last    2 y-planes are zero [from A]\n",
    "++ first   0 z-planes are zero [from I]\n",
    "++ last    0 z-planes are zero [from S]\n",
    "++ Output dataset /Users/alisha/Desktop/CogNeuro-Imaging-Methods/Mattfeld_PSB6351/derivatives/preproc/sub-001/study_ref/sub-001_mask.nii.gz\n",
    "++ CPU time = 0.060000 sec\n",
    "\n",
    "# Do FWHM and find values \n",
    "3dFWHMx -acf -out loc_3dfwhmx_output -mask /Users/alisha/Desktop/CogNeuro-Imaging-Methods/Mattfeld_PSB6351/derivatives/preproc/sub-001/study_ref/sub-001_mask.nii.gz -input /Users/alisha/Desktop/CogNeuro-Imaging-Methods/Mattfeld_PSB6351/derivatives/preproc/sub-001/study_ref/sub-001_ses-01_task-loc1_run-01_bold_roi.nii.gz\n",
    "\n",
    "# Terminal output\n",
    "++ 3dFWHMx: AFNI version=AFNI_24.3.02 (Oct 15 2024) [64-bit]\n",
    "++ Authored by: The Bob\n",
    "++ Number of voxels in mask = 219806\n",
    "++ start ACF calculations out to radius = 17.34 mm\n",
    " + ACF done (0.23 CPU s thus far)\n",
    " 0  0  0    0\n",
    " 0.482895  25.7815  4.72971    21.0683\n",
    "++ ACF 1D file [radius ACF mixed_model gaussian_NEWmodel] written to 3dFWHMx.1D\n",
    "++ 1dplot: AFNI version=AFNI_24.3.02 (Oct 15 2024) [64-bit]\n",
    "++ Authored by: RWC et al.\n",
    " + and 1dplot-ed to file 3dFWHMx.1D.png\n",
    "\n",
    "#parameters based on output:  0.482895  25.7815  4.72971    21.0683\n",
    "3dClustSim -mask /Users/alisha/Desktop/CogNeuro-Imaging-Methods/Mattfeld_PSB6351/derivatives/preproc/sub-001/study_ref/sub-001_mask.nii.gz -acf 0.482895 25.7815 4.72971 -prefix psb6351_clustsim.1D\n",
    "\n",
    "# Terminal output\n",
    "++ 3dClustSim: AFNI version=AFNI_24.3.02 (Oct 15 2024) [64-bit]\n",
    "++ Authored by: RW Cox and BD Ward\n",
    "++ 219806 voxels in mask (33.30% of total)\n",
    "++ Kernel function radius = 65.06 mm\n",
    "++ ACF(0.48,25.78,4.73) => FWHM=21.07 => 100x100x66 pads to 192x192x160\n",
    " + Kernel image dimensions 90 x 90 x 75\n",
    "++ Startup clock time = 0.2 s\n",
    "++ Using 8 OpenMP threads\n",
    "Simulating:0123456789.0123456789.0123456789.0123456789.0123456789.!\n",
    "++ Clock time now = 219.9 s\n",
    "\n"
   ]
  }
 ],
 "metadata": {
  "kernelspec": {
   "display_name": "base",
   "language": "python",
   "name": "python3"
  },
  "language_info": {
   "codemirror_mode": {
    "name": "ipython",
    "version": 3
   },
   "file_extension": ".py",
   "mimetype": "text/x-python",
   "name": "python",
   "nbconvert_exporter": "python",
   "pygments_lexer": "ipython3",
   "version": "3.10.14"
  }
 },
 "nbformat": 4,
 "nbformat_minor": 2
}
