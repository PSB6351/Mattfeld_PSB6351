{
 "cells": [
  {
   "cell_type": "code",

   "execution_count": 1,

   "metadata": {},
   "outputs": [
    {
     "name": "stderr",
     "output_type": "stream",
     "text": [
      "/tmp/ipykernel_125995/1246310376.py:6: UserWarning: The DICOM readers are highly experimental, unstable, and only work for Siemens time-series at the moment\n",
      "Please use with caution.  We would be grateful for your help in improving them\n",
      "  import nibabel.nicom.csareader as csareader\n"
     ]
    }
   ],
   "source": [
    "# Import necessary modules\n",
    "# glob allows unix style pathname pattern expansion\n",
    "from glob import glob\n",
    "# pydicom is the python dicom reader\n",
    "import pydicom as dicom\n",
    "import nibabel.nicom.csareader as csareader\n",
    "import os\n",
    "import pandas as pd"
   ]
  },
  {
   "cell_type": "code",

   "execution_count": 26,

   "metadata": {},
   "outputs": [],
   "source": [
    "# 5-T1w_MPR_vNav -- MPRAGE structrual dicoms\n",
    "# 6-fMRI_DistortionMap_PA -- fmri field map dicoms\n",
    "# 7-fMRI_DistortionMap_AP -- fmri field map dicoms opposite phase encode direction\n",
    "# 9-fMRI_REVL_ROI_loc_2 -- fmri localizer dicoms run1\n",
    "# 10-fMRI_REVL_Study_1 -- fmri task dicoms run1\n",
    "# 14-dMRI_DistortionMap_AP_dMRI_REVL -- dwi field map dicoms\n",
    "# 16-dMRI_AP_REVL -- diffusion weighted dicoms\n",
    "\n",
    "user_ad = 'amattfel'\n",
    "# directories will have to be specific to your computer\n",

    "base_dir = f'/home/{user_ad}/Mattfeld_PSB6351'\n",
    "proj_dir = '/sourcedata'"
   ]
  },
  {
   "cell_type": "code",
   "execution_count": 43,
   "metadata": {},
   "outputs": [
    {
     "name": "stdout",
     "output_type": "stream",
     "text": [
      "\n",
      "\n",
      "5-T1w_MPR_vNav\n",
      "The number of TRs collected equals: 176\n",
      "The timing of the TR was: 2500 ms\n",
      "The timing of the TE was: 2.9 ms\n",
      "The flip angle in degrees was: 8\n",
      "The name of the scan was: T1w_MPR_vNav\n",
      "The phase encode direction was: ROW\n",
      "COL = AP or PA; ROW = RL or LR\n",
      "The field of view - FOV was: FoV 256*256\n",
      "The phase encode direction was: 1\n",
      "1 = +; 0 = -\n",
      "COL, 1 = PA; COL, 0 = AP\n",
      "The phase encoding direction was: j\n",
      "\n",
      "\n",
      "6-fMRI_DistortionMap_PA\n",
      "The number of TRs collected equals: 66\n",
      "The timing of the TR was: 6720 ms\n",
      "The timing of the TE was: 80 ms\n",
      "The flip angle in degrees was: 90\n",
      "The name of the scan was: fMRI_DistortionMap_PA\n",
      "The phase encode direction was: COL\n",
      "COL = AP or PA; ROW = RL or LR\n",
      "The field of view - FOV was: FoV 200*200\n",
      "The phase encode direction was: 0\n",
      "1 = +; 0 = -\n",
      "COL, 1 = PA; COL, 0 = AP\n",
      "The phase encoding direction was: -i\n",
      "\n",
      "\n",
      "7-fMRI_DistortionMap_AP\n",
      "The number of TRs collected equals: 66\n",
      "The timing of the TR was: 6720 ms\n",
      "The timing of the TE was: 80 ms\n",
      "The flip angle in degrees was: 90\n",
      "The name of the scan was: fMRI_DistortionMap_AP\n",
      "The phase encode direction was: COL\n",
      "COL = AP or PA; ROW = RL or LR\n",
      "The field of view - FOV was: FoV 200*200\n",
      "The phase encode direction was: 1\n",
      "1 = +; 0 = -\n",
      "COL, 1 = PA; COL, 0 = AP\n",
      "The phase encoding direction was: i\n",
      "\n",
      "\n",
      "9-fMRI_REVL_ROI_loc_2\n",
      "The number of TRs collected equals: 304\n",
      "The timing of the TR was: 1760 ms\n",
      "The timing of the TE was: 35 ms\n",
      "The flip angle in degrees was: 52\n",
      "The name of the scan was: fMRI_REVL_ROI_loc_2\n",
      "The phase encode direction was: COL\n",
      "COL = AP or PA; ROW = RL or LR\n",
      "The slice timing was: [1267.50000002, 0.0, 870.0, 80.00000002, 950.00000001, 160.0, 1030.0, 237.50000002, 1107.50000001, 317.5, 1187.5, 475.00000001, 1345.0, 554.99999999, 1425.00000002, 632.50000001, 1502.5, 712.49999999, 1582.49999999, 792.50000001, 1662.50000001, 397.49999999, 1267.50000002, 0.0, 870.0, 80.00000002, 950.00000001, 160.0, 1030.0, 237.50000002, 1107.50000001, 317.5, 1187.5, 475.00000001, 1345.0, 554.99999999, 1425.00000002, 632.50000001, 1502.5, 712.49999999, 1582.49999999, 792.50000001, 1662.50000001, 397.49999999, 1267.50000002, 0.0, 870.0, 80.00000002, 950.00000001, 160.0, 1030.0, 237.50000002, 1107.50000001, 317.5, 1187.5, 475.00000001, 1345.0, 554.99999999, 1425.00000002, 632.50000001, 1502.5, 712.49999999, 1582.49999999, 792.50000001, 1662.50000001, 397.49999999]\n",
      "The field of view - FOV was: FoV 1800*1800\n",
      "The phase encode direction was: 0\n",
      "1 = +; 0 = -\n",
      "COL, 1 = PA; COL, 0 = AP\n",
      "The phase encoding direction was: -i\n",
      "\n",
      "\n",
      "10-fMRI_REVL_Study_1\n",
      "The number of TRs collected equals: 355\n",
      "The timing of the TR was: 1760 ms\n",
      "The timing of the TE was: 35 ms\n",
      "The flip angle in degrees was: 52\n",
      "The name of the scan was: fMRI_REVL_Study_1\n",
      "The phase encode direction was: COL\n",
      "COL = AP or PA; ROW = RL or LR\n",
      "The slice timing was: [1264.99999998, 0.0, 870.0, 77.49999998, 947.49999998, 157.5, 1027.5, 237.49999999, 1107.49999998, 315.0, 1185.0, 475.00000001, 1345.0, 552.49999999, 1422.49999999, 632.49999998, 1502.5, 709.99999999, 1579.99999999, 789.99999998, 1660.0, 394.99999999, 1264.99999998, 0.0, 870.0, 77.49999998, 947.49999998, 157.5, 1027.5, 237.49999999, 1107.49999998, 315.0, 1185.0, 475.00000001, 1345.0, 552.49999999, 1422.49999999, 632.49999998, 1502.5, 709.99999999, 1579.99999999, 789.99999998, 1660.0, 394.99999999, 1264.99999998, 0.0, 870.0, 77.49999998, 947.49999998, 157.5, 1027.5, 237.49999999, 1107.49999998, 315.0, 1185.0, 475.00000001, 1345.0, 552.49999999, 1422.49999999, 632.49999998, 1502.5, 709.99999999, 1579.99999999, 789.99999998, 1660.0, 394.99999999]\n",
      "The field of view - FOV was: FoV 1800*1800\n",
      "The phase encode direction was: 0\n",
      "1 = +; 0 = -\n",
      "COL, 1 = PA; COL, 0 = AP\n",
      "The phase encoding direction was: -i\n",
      "\n",
      "\n",
      "14-dMRI_DistortionMap_AP_dMRI_REVL\n",
      "The number of TRs collected equals: 81\n",
      "The timing of the TR was: 12600 ms\n",
      "The timing of the TE was: 89 ms\n",
      "The flip angle in degrees was: 90\n",
      "The name of the scan was: dMRI_DistortionMap_AP_dMRI_REVL\n",
      "The phase encode direction was: COL\n",
      "COL = AP or PA; ROW = RL or LR\n",
      "The field of view - FOV was: FoV 240*240\n",
      "The phase encode direction was: 1\n",
      "1 = +; 0 = -\n",
      "COL, 1 = PA; COL, 0 = AP\n",
      "The phase encoding direction was: i\n",
      "\n",
      "\n",
      "16-dMRI_AP_REVL\n",
      "The number of TRs collected equals: 103\n",
      "The timing of the TR was: 4200 ms\n",
      "The timing of the TE was: 89 ms\n",
      "The flip angle in degrees was: 90\n",
      "The name of the scan was: dMRI_AP_REVL\n",
      "The phase encode direction was: COL\n",
      "COL = AP or PA; ROW = RL or LR\n",
      "The slice timing was: [0.0, 2167.50000001, 155.0, 2322.50000001, 310.0, 2477.50000001, 465.00000003, 2632.50000001, 620.00000002, 2787.50000001, 775.00000002, 2942.5, 930.00000002, 3097.5, 1085.00000002, 3252.5, 1240.00000002, 3407.5, 1395.00000002, 3562.5, 1550.00000002, 3717.5, 1705.00000002, 3870.00000002, 1857.50000001, 4025.00000002, 2012.50000001, 0.0, 2167.50000001, 155.0, 2322.50000001, 310.0, 2477.50000001, 465.00000003, 2632.50000001, 620.00000002, 2787.50000001, 775.00000002, 2942.5, 930.00000002, 3097.5, 1085.00000002, 3252.5, 1240.00000002, 3407.5, 1395.00000002, 3562.5, 1550.00000002, 3717.5, 1705.00000002, 3870.00000002, 1857.50000001, 4025.00000002, 2012.50000001, 0.0, 2167.50000001, 155.0, 2322.50000001, 310.0, 2477.50000001, 465.00000003, 2632.50000001, 620.00000002, 2787.50000001, 775.00000002, 2942.5, 930.00000002, 3097.5, 1085.00000002, 3252.5, 1240.00000002, 3407.5, 1395.00000002, 3562.5, 1550.00000002, 3717.5, 1705.00000002, 3870.00000002, 1857.50000001, 4025.00000002, 2012.50000001]\n",
      "The field of view - FOV was: FoV 2160*2160\n",
      "The phase encode direction was: 1\n",
      "1 = +; 0 = -\n",
      "COL, 1 = PA; COL, 0 = AP\n",
      "The phase encoding direction was: i\n"
     ]
    }
   ],
   "source": [
    "# Elements we're interested in\n",
    "# Repetition Time\n",
    "# Echo Time\n",
    "# Acquisition Matrix \n",
    "# Flip Angle\n",
    "# Acquisition Number\n",
    "# Protocol Name\n",
    "# Slice times = data_set[0x00191029].value\n",
    "\n",
    "scans_of_interest = ['5-', '6-', '7-', '9-', '10-', '14-', '16-']\n",
    "\n",
    "for curr_scan in scans_of_interest:\n",
    "    \n",
    "    subj_dir = f'/Mattfeld_REVL-000-vCAT-021-S1/scans/{curr_scan}*/*/DICOM/*'\n",
    "\n",
    "    # with strings I can concatenate them with simple addition lines\n",
    "    data_dir = base_dir + proj_dir + subj_dir\n",
    "\n",
    "    # Here I use glob to grab the dicom files\n",
    "    # Why would I use glob?  What does it give me?\n",
    "    data_files = sorted(glob(data_dir + '/*'))\n",
    "\n",
    "    print('')\n",
    "    print('')\n",
    "    print(data_files[0].split('/')[7])\n",
    "\n",
    "    mri_vol = dicom.dcmread(data_files[0])\n",
    "    \n",
    "    print('The number of TRs collected equals: {0}'.format(len(data_files)))\n",
    "    print('The timing of the TR was: {0} ms'.format(mri_vol.RepetitionTime))\n",
    "    print('The timing of the TE was: {0} ms'.format(mri_vol.EchoTime))\n",
    "    print(f'The flip angle in degrees was: {mri_vol.FlipAngle}')\n",
    "    print(f'The name of the scan was: {mri_vol.ProtocolName}')\n",
    "    pe_dir = mri_vol[int('00181312', 16)].value\n",
    "    print('The phase encode direction was: {0}'.format(mri_vol[int('00181312', 16)].value))\n",
    "    print('COL = AP or PA; ROW = RL or LR')\n",
    "    if 0x00191029 in mri_vol:\n",
    "        print(f'The slice timing was: {mri_vol[0x00191029].value}')\n",
    "    print(f'The field of view - FOV was: {mri_vol[0x0051100c].value}')\n",
    "\n",
    "    # Why use the following format to access information in the header?\n",
    "    #print(data_set[int('0051100c', 16)].value) # data_set[0x0051100c].value\n",
    "    # Allows us to access information that is private in the dicom header.\n",
    "    \n",
    "    # How do I find phase encoding direction information?\n",
    "    \n",
    "    csa_str = mri_vol[int('00291010', 16)].value\n",
    "    csa_tr = csareader.read(csa_str)\n",
    "    pe_sign = csa_tr['tags']['PhaseEncodingDirectionPositive']['items'][0]\n",
    "    print('The phase encode direction was: {0}'.format(csa_tr['tags']['PhaseEncodingDirectionPositive']['items'][0]))\n",
    "    print('1 = +; 0 = -')\n",
    "    print('COL, 1 = PA; COL, 0 = AP')\n",
    "    \n",
    "    rowcol_to_niftidim = {'COL': 'i', 'ROW': 'j'}\n",
    "    pedp_to_sign = {0: '-', 1: ''} \n",
    "    ij = rowcol_to_niftidim[pe_dir]\n",
    "    sign = pedp_to_sign[pe_sign]\n",
    "    print(f'The phase encoding direction was: {sign}{ij}')\n",
    "\n"
   ]
  },
  {
   "cell_type": "code",
    
   "execution_count": 32,

   "metadata": {},
   "outputs": [
    {
     "data": {
      "text/plain": [

       "'COL'"
      ]
     },
     "execution_count": 32,

     "metadata": {},
     "output_type": "execute_result"
    }
   ],
   "source": [

    "func_vol.InPlanePhaseEncodingDirection"

   ]
  },
  {
   "cell_type": "code",

   "execution_count": 45,

   "metadata": {},
   "outputs": [
    {
     "data": {
      "text/plain": [

       "[1, 0, 0, 0, 0.86602540210929, -0.5000000029014]"
      ]
     },
     "execution_count": 45,

     "metadata": {},
     "output_type": "execute_result"
    }
   ],
   "source": [

    "func_vol[int('00200037', 16)].value #ImageOrientationPatientDICOM"

   ]
  },
  {
   "cell_type": "code",

   "execution_count": 46,

   "metadata": {},
   "outputs": [
    {
     "data": {
      "text/plain": [

       "'COL'"
      ]
     },
     "execution_count": 46,

     "metadata": {},
     "output_type": "execute_result"
    }
   ],
   "source": [

    "func_vol[int('00181312', 16)].value #InPlanePhaseEncodingDirectionDICOM\n",
    "'''\n",
    "For Siemens V* EPI axial acquisitions saved as mosaics we typically expect 0018,1312 to be COL for A>>P and P>>A \n",
    "or\n",
    "j\n",
    "'''"

   ]
  },
  {
   "cell_type": "code",
   "execution_count": 146,
   "metadata": {},
   "outputs": [],

   "source": []

  }
 ],
 "metadata": {
  "kernelspec": {
   "display_name": "Python 3 (ipykernel)",
   "language": "python",
   "name": "python3"
  },
  "language_info": {
   "codemirror_mode": {
    "name": "ipython",
    "version": 3
   },
   "file_extension": ".py",
   "mimetype": "text/x-python",
   "name": "python",
   "nbconvert_exporter": "python",
   "pygments_lexer": "ipython3",
   "version": "3.10.12"
  }
 },
 "nbformat": 4,
 "nbformat_minor": 4
}
