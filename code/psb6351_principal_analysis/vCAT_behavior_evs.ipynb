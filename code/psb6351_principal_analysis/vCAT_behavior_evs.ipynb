{
 "cells": [
  {
   "cell_type": "code",
   "execution_count": 1,
   "metadata": {},
   "outputs": [],
   "source": [
    "import os\n",
    "from glob import glob\n",
    "import pandas as pd\n",
    "import numpy as np"
   ]
  },
  {
   "cell_type": "code",
   "execution_count": 2,
   "metadata": {},
   "outputs": [],
   "source": [
    "proj_dir = '/home/csted001/Mattfeld_PSB6351/'\n",
    "behav_dir = os.path.join(proj_dir, 'sourcedata', 'Mattfeld_REVL-000-vCAT-021-S1', 'behav_data')\n",
    "behav_files = sorted(glob(behav_dir + '/*.csv'))"
   ]
  },
  {
   "cell_type": "code",
   "execution_count": 3,
   "metadata": {},
   "outputs": [
    {
     "ename": "IndexError",
     "evalue": "list index out of range",
     "output_type": "error",
     "traceback": [
      "\u001b[0;31m---------------------------------------------------------------------------\u001b[0m",
      "\u001b[0;31mIndexError\u001b[0m                                Traceback (most recent call last)",
      "Input \u001b[0;32mIn [3]\u001b[0m, in \u001b[0;36m<cell line: 6>\u001b[0;34m()\u001b[0m\n\u001b[1;32m      1\u001b[0m \u001b[38;5;66;03m#loc_behav_data = pd.read_csv(behav_files[0])\u001b[39;00m\n\u001b[1;32m      2\u001b[0m \u001b[38;5;66;03m#loc_behav_data_redux = loc_behav_data[['StimOnset', 'kaleido_img', 'stim_ID',\u001b[39;00m\n\u001b[1;32m      3\u001b[0m \u001b[38;5;66;03m#                                      'correct', 'trial_acc', 'resp_trial_1.keys',\u001b[39;00m\n\u001b[1;32m      4\u001b[0m \u001b[38;5;66;03m#                                      'resp_trial_1.rt']]\u001b[39;00m\n\u001b[0;32m----> 6\u001b[0m task_behav_data \u001b[38;5;241m=\u001b[39m pd\u001b[38;5;241m.\u001b[39mread_csv(\u001b[43mbehav_files\u001b[49m\u001b[43m[\u001b[49m\u001b[38;5;241;43m-\u001b[39;49m\u001b[38;5;241;43m1\u001b[39;49m\u001b[43m]\u001b[49m)\n\u001b[1;32m      7\u001b[0m task_behav_data_redux \u001b[38;5;241m=\u001b[39m task_behav_data[[\u001b[38;5;124m'\u001b[39m\u001b[38;5;124mStimOnset\u001b[39m\u001b[38;5;124m'\u001b[39m, \u001b[38;5;124m'\u001b[39m\u001b[38;5;124mkaleido_img\u001b[39m\u001b[38;5;124m'\u001b[39m, \u001b[38;5;124m'\u001b[39m\u001b[38;5;124mstim_ID\u001b[39m\u001b[38;5;124m'\u001b[39m,\n\u001b[1;32m      8\u001b[0m                                       \u001b[38;5;124m'\u001b[39m\u001b[38;5;124mcorrect\u001b[39m\u001b[38;5;124m'\u001b[39m, \u001b[38;5;124m'\u001b[39m\u001b[38;5;124mtrial_acc\u001b[39m\u001b[38;5;124m'\u001b[39m, \u001b[38;5;124m'\u001b[39m\u001b[38;5;124mresp_trial_1.keys\u001b[39m\u001b[38;5;124m'\u001b[39m,\n\u001b[1;32m      9\u001b[0m                                       \u001b[38;5;124m'\u001b[39m\u001b[38;5;124mresp_trial_1.rt\u001b[39m\u001b[38;5;124m'\u001b[39m]]\n",
      "\u001b[0;31mIndexError\u001b[0m: list index out of range"
     ]
    }
   ],
   "source": [
    "#loc_behav_data = pd.read_csv(behav_files[0])\n",
    "#loc_behav_data_redux = loc_behav_data[['StimOnset', 'kaleido_img', 'stim_ID',\n",
    "#                                      'correct', 'trial_acc', 'resp_trial_1.keys',\n",
    "#                                      'resp_trial_1.rt']]\n",
    "\n",
    "task_behav_data = pd.read_csv(behav_files[-1])\n",
    "task_behav_data_redux = task_behav_data[['StimOnset', 'kaleido_img', 'stim_ID',\n",
    "                                      'correct', 'trial_acc', 'resp_trial_1.keys',\n",
    "                                      'resp_trial_1.rt']]"
   ]
  },
  {
   "cell_type": "code",
   "execution_count": 4,
   "metadata": {},
   "outputs": [
    {
     "ename": "NameError",
     "evalue": "name 'loc_behav_data_redux' is not defined",
     "output_type": "error",
     "traceback": [
      "\u001b[0;31m---------------------------------------------------------------------------\u001b[0m",
      "\u001b[0;31mNameError\u001b[0m                                 Traceback (most recent call last)",
      "Input \u001b[0;32mIn [4]\u001b[0m, in \u001b[0;36m<cell line: 4>\u001b[0;34m()\u001b[0m\n\u001b[1;32m      1\u001b[0m \u001b[38;5;66;03m# THIS CELL WAS USED FOR THE LOCALIZER TASK\u001b[39;00m\n\u001b[1;32m      2\u001b[0m loc_data_dict \u001b[38;5;241m=\u001b[39m {\u001b[38;5;124m'\u001b[39m\u001b[38;5;124monset\u001b[39m\u001b[38;5;124m'\u001b[39m:[], \u001b[38;5;124m'\u001b[39m\u001b[38;5;124mduration\u001b[39m\u001b[38;5;124m'\u001b[39m:[], \u001b[38;5;124m'\u001b[39m\u001b[38;5;124mtrial_type\u001b[39m\u001b[38;5;124m'\u001b[39m:[],\n\u001b[1;32m      3\u001b[0m                  \u001b[38;5;124m'\u001b[39m\u001b[38;5;124mresponse_time\u001b[39m\u001b[38;5;124m'\u001b[39m:[], \u001b[38;5;124m'\u001b[39m\u001b[38;5;124mstim_file\u001b[39m\u001b[38;5;124m'\u001b[39m:[], \u001b[38;5;124m'\u001b[39m\u001b[38;5;124mresp\u001b[39m\u001b[38;5;124m'\u001b[39m:[]}\n\u001b[0;32m----> 4\u001b[0m \u001b[38;5;28;01mfor\u001b[39;00m idx, stim \u001b[38;5;129;01min\u001b[39;00m \u001b[38;5;28menumerate\u001b[39m(\u001b[43mloc_behav_data_redux\u001b[49m[\u001b[38;5;124m'\u001b[39m\u001b[38;5;124mstim\u001b[39m\u001b[38;5;124m'\u001b[39m]):\n\u001b[1;32m      5\u001b[0m     \u001b[38;5;28;01mif\u001b[39;00m \u001b[38;5;129;01mnot\u001b[39;00m \u001b[38;5;28misinstance\u001b[39m(stim, \u001b[38;5;28mfloat\u001b[39m):\n\u001b[1;32m      6\u001b[0m         trialtype_list \u001b[38;5;241m=\u001b[39m stim\u001b[38;5;241m.\u001b[39msplit(\u001b[38;5;124m'\u001b[39m\u001b[38;5;130;01m\\\\\u001b[39;00m\u001b[38;5;124m'\u001b[39m)\n",
      "\u001b[0;31mNameError\u001b[0m: name 'loc_behav_data_redux' is not defined"
     ]
    }
   ],
   "source": [
    "# THIS CELL WAS USED FOR THE LOCALIZER TASK\n",
    "loc_data_dict = {'onset':[], 'duration':[], 'trial_type':[],\n",
    "                 'response_time':[], 'stim_file':[], 'resp':[]}\n",
    "for idx, stim in enumerate(loc_behav_data_redux['stim']):\n",
    "    if not isinstance(stim, float):\n",
    "        trialtype_list = stim.split('\\\\')\n",
    "        loc_data_dict['onset'].append(loc_behav_data_redux['StimOnset'][idx])\n",
    "        loc_data_dict['duration'].append('0.5')\n",
    "        if len(trialtype_list) > 1:\n",
    "            if 'face' in trialtype_list[0]:\n",
    "                loc_data_dict['trial_type'].append('face')\n",
    "            else:\n",
    "                loc_data_dict['trial_type'].append('scence')\n",
    "        else:\n",
    "            loc_data_dict['trial_type'].append('math')\n",
    "        loc_data_dict['response_time'].append(loc_behav_data_redux['resp_trial_1.rt'][idx])\n",
    "        loc_data_dict['stim_file'].append(trialtype_list[-1])\n",
    "        loc_data_dict['resp'].append(loc_behav_data_redux['resp_trial_1.keys'][idx])\n",
    "        \n",
    "loc_data_df = pd.DataFrame.from_dict(loc_data_dict)"
   ]
  },
  {
   "cell_type": "code",
   "execution_count": null,
   "metadata": {},
   "outputs": [],
   "source": [
    "for idx, curr_onset in enumerate(loc_data_df['onset']):\n",
    "    if idx != 0:\n",
    "        isi = curr_onset - (loc_data_df['onset'][idx - 1] + 0.5)\n",
    "        print(isi)"
   ]
  },
  {
   "cell_type": "code",
   "execution_count": null,
   "metadata": {},
   "outputs": [],
   "source": [
    "curr_file_name = 'sub-021_task-loc_run-2_events.tsv'\n",
    "behav_data_dir = '/home/csted001/Mattfeld_PSB6351/dset/sub-021/ses-1/func'\n",
    "\n",
    "curr_path_flname = os.path.join(behav_data_dir, curr_file_name)\n",
    "loc_data_df.to_csv(curr_path_flname, sep=\"\\t\", index=False)"
   ]
  },
  {
   "cell_type": "code",
   "execution_count": null,
   "metadata": {},
   "outputs": [],
   "source": [
    "# THIS CELL WAS USED FOR THE vCAT TASK\n",
    "task_data_dict = {'run':[], 'onset':[], 'duration':[], 'trial_type':[],\n",
    "                  'response_time':[], 'stim_file':[], 'resp':[], 'acc':[]}\n",
    "curr_run = 0\n",
    "for idx, curr_onset in enumerate(task_behav_data_redux['StimOnset']):\n",
    "    if not np.isnan(curr_onset):\n",
    "        if (curr_onset - task_behav_data_redux['StimOnset'][idx - 1]) < 0:\n",
    "            curr_run = curr_run + 1\n",
    "        elif np.isnan(curr_onset - task_behav_data_redux['StimOnset'][idx - 1]):\n",
    "            curr_run = curr_run + 1\n",
    "        task_data_dict['onset'].append(curr_onset)\n",
    "        task_data_dict['duration'].append('0.5')\n",
    "        task_data_dict['response_time'].append(task_behav_data_redux['resp_trial_1.rt'][idx])\n",
    "        task_data_dict['resp'].append(task_behav_data_redux['resp_trial_1.keys'][idx])\n",
    "        task_data_dict['acc'].append(task_behav_data_redux['trial_acc'][idx])\n",
    "        if not isinstance(task_behav_data_redux['kaleido_img'][idx], str):\n",
    "            task_data_dict['trial_type'].append('baseline')\n",
    "            task_data_dict['stim_file'].append('BL')\n",
    "        else:\n",
    "            task_data_dict['trial_type'].append(task_behav_data_redux['stim_ID'][idx])\n",
    "            task_data_dict['stim_file'].append(task_behav_data_redux['kaleido_img'][idx])\n",
    "        task_data_dict['run'].append(curr_run)\n",
    "        \n",
    "task_data_df = pd.DataFrame.from_dict(task_data_dict)"
   ]
  },
  {
   "cell_type": "code",
   "execution_count": null,
   "metadata": {},
   "outputs": [],
   "source": [
    "behav_data_dir = '/home/csted001/Mattfeld_PSB6351/dset/sub-021/ses-1/func'\n",
    "relevant_header = ['onset', 'duration', 'trial_type', 'response_time',\n",
    "                   'stim_file', 'resp', 'acc']\n",
    "for curr_run in range(1,5):\n",
    "    curr_run_task_data = task_data_df.query(f\"run == '{curr_run}'\")\n",
    "    curr_file_name = f'sub-021_task-study_run-{curr_run}_events.tsv'\n",
    "    curr_path_flname = os.path.join(behav_data_dir, curr_file_name)\n",
    "    curr_run_task_data.to_csv(curr_path_flname, sep=\"\\t\", index=False, columns=relevant_header)"
   ]
  },
  {
   "cell_type": "code",
   "execution_count": null,
   "metadata": {},
   "outputs": [],
   "source": [
    "task_data_df.query(\"run == '1'\")"
   ]
  },
  {
   "cell_type": "code",
   "execution_count": null,
   "metadata": {},
   "outputs": [],
   "source": []
  }
 ],
 "metadata": {
  "kernelspec": {
   "display_name": "Python 3 (ipykernel)",
   "language": "python",
   "name": "python3"
  },
  "language_info": {
   "codemirror_mode": {
    "name": "ipython",
    "version": 3
   },
   "file_extension": ".py",
   "mimetype": "text/x-python",
   "name": "python",
   "nbconvert_exporter": "python",
   "pygments_lexer": "ipython3",
   "version": "3.9.13"
  }
 },
 "nbformat": 4,
 "nbformat_minor": 4
}
